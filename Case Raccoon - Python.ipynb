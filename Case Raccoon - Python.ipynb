{
  "cells": [
    {
      "cell_type": "markdown",
      "id": "cd4fd494-dbf7-40a5-a5a9-3d32876015c9",
      "metadata": {
        "id": "cd4fd494-dbf7-40a5-a5a9-3d32876015c9"
      },
      "source": [
        "<h1>Case Raccoon: Projeto Engenharia de Dados</h1>"
      ]
    },
    {
      "cell_type": "markdown",
      "id": "af64b887-8416-40f7-8c38-eaf33e6e9d81",
      "metadata": {
        "id": "af64b887-8416-40f7-8c38-eaf33e6e9d81"
      },
      "source": [
        "<h3>Importando bibliotecas e as tabelas do excel</h3>"
      ]
    },
    {
      "cell_type": "code",
      "execution_count": null,
      "id": "322c2642",
      "metadata": {
        "id": "322c2642"
      },
      "outputs": [],
      "source": [
        "import pandas as pd\n",
        "import numpy as np\n",
        "import matplotlib.pyplot as plt\n",
        "import seaborn as sns\n",
        "\n",
        "pd.options.mode.chained_assignment = None\n",
        "\n",
        "urlbandas = 'https://raw.githubusercontent.com/impablojansen/case_raccoon/main/psel_de_bandas.csv'\n",
        "urlcompras = 'https://raw.githubusercontent.com/impablojansen/case_raccoon/main/psel_de_compras.csv'\n",
        "urlingressos = 'https://raw.githubusercontent.com/impablojansen/case_raccoon/main/psel_de_ingressos.csv'\n",
        "\n",
        "bandas = pd.read_csv(urlbandas, sep=';')\n",
        "compras = pd.read_csv(urlcompras, sep=';')\n",
        "ingressos = pd.read_csv(urlingressos, sep=';')\n",
        "\n",
        "bandas.reset_index(drop=True)\n",
        "compras.reset_index(drop=True)\n",
        "ingressos.reset_index(drop=True)\n",
        "\n",
        "\n",
        "compras.rename(columns = {' gastos ':'gastos'}, inplace = True)"
      ]
    },
    {
      "cell_type": "markdown",
      "id": "f2c397f3-8749-4755-862d-1b27077498b5",
      "metadata": {
        "id": "f2c397f3-8749-4755-862d-1b27077498b5"
      },
      "source": [
        "<h3>Adicionando coluna com o dia (número) do show na tabela de gastos</h3>"
      ]
    },
    {
      "cell_type": "code",
      "execution_count": null,
      "id": "ecbe83ee",
      "metadata": {
        "id": "ecbe83ee"
      },
      "outputs": [],
      "source": [
        "## Add coluna com o DIA do show na tabela de GASTOS\n",
        "\n",
        "def categorise(row):\n",
        "    if row['show'] == 'Terrestrial Chair':\n",
        "        return \"1\"\n",
        "    elif row['show'] == 'Nascent Letter':\n",
        "        return \"2\"\n",
        "    elif row['show'] == 'Symbolic Toy':\n",
        "        return \"3\"\n",
        "    \n",
        "compras['dia'] = compras.apply(lambda row: categorise(row), axis=1).astype(str)"
      ]
    },
    {
      "cell_type": "markdown",
      "id": "618f75fd-f6d5-47e9-be12-d27a5d4db510",
      "metadata": {
        "id": "618f75fd-f6d5-47e9-be12-d27a5d4db510"
      },
      "source": [
        "<h3>Transformando o dia em string</h3>"
      ]
    },
    {
      "cell_type": "code",
      "execution_count": null,
      "id": "b575dcca-205c-4165-9f10-18671b09fdde",
      "metadata": {
        "id": "b575dcca-205c-4165-9f10-18671b09fdde"
      },
      "outputs": [],
      "source": [
        "ingressos = ingressos.astype(str)"
      ]
    },
    {
      "cell_type": "markdown",
      "id": "a772cdd1-9fa1-4e55-b637-7dd3a5879bc2",
      "metadata": {
        "id": "a772cdd1-9fa1-4e55-b637-7dd3a5879bc2"
      },
      "source": [
        "<h3>Encontrando clientes que, independente de conseguirem comprar ou não, estão na lista de consumação e na lista de tentativa de compra.</h3>"
      ]
    },
    {
      "cell_type": "code",
      "execution_count": null,
      "id": "09cd9e33-d2f1-4293-847e-49011d2a8f8c",
      "metadata": {
        "id": "09cd9e33-d2f1-4293-847e-49011d2a8f8c"
      },
      "outputs": [],
      "source": [
        "tentou_comprar_e_foi = ingressos.loc[ingressos['nome'].isin(compras['nome']) & ingressos['dia'].isin(compras['dia'])]"
      ]
    },
    {
      "cell_type": "markdown",
      "id": "faff09e1-0144-43e4-b573-b972f670bbdd",
      "metadata": {
        "id": "faff09e1-0144-43e4-b573-b972f670bbdd"
      },
      "source": [
        "<h3>Encontrando clientes que concluíram a compra e compareceram ao show</h3>"
      ]
    },
    {
      "cell_type": "code",
      "execution_count": null,
      "id": "fa57cc10-1faa-4c06-9516-32847b0c5d21",
      "metadata": {
        "id": "fa57cc10-1faa-4c06-9516-32847b0c5d21"
      },
      "outputs": [],
      "source": [
        "boolean_compra_concluida = (tentou_comprar_e_foi['status'] == \"Concluido\")\n",
        "comprou_e_foi = tentou_comprar_e_foi[boolean_compra_concluida].astype(str)"
      ]
    },
    {
      "cell_type": "markdown",
      "id": "0296120c-f83d-4b11-a2ff-fca3f8ea7022",
      "metadata": {
        "id": "0296120c-f83d-4b11-a2ff-fca3f8ea7022"
      },
      "source": [
        "<h3>Encontrando clientes que compraram ingresso 'Pista' com a AT</h3>"
      ]
    },
    {
      "cell_type": "code",
      "execution_count": null,
      "id": "e01498b4-505a-45a4-ba80-26d896aca108",
      "metadata": {
        "id": "e01498b4-505a-45a4-ba80-26d896aca108"
      },
      "outputs": [],
      "source": [
        "ingresso_tipo_pista = comprou_e_foi[(comprou_e_foi['tipo'] == \"Pista\")]"
      ]
    },
    {
      "cell_type": "markdown",
      "id": "aebe703b-46f6-470a-b282-8880dfe55227",
      "metadata": {
        "id": "aebe703b-46f6-470a-b282-8880dfe55227"
      },
      "source": [
        "<h3>Lista dos clientes que desistiram de comprar com a AT mas foram ao show</h3>"
      ]
    },
    {
      "cell_type": "code",
      "execution_count": null,
      "id": "9b6fc336",
      "metadata": {
        "id": "9b6fc336"
      },
      "outputs": [],
      "source": [
        "nao_comprou_mas_foi = tentou_comprar_e_foi.loc[~tentou_comprar_e_foi['nome'].isin(comprou_e_foi['nome']) & tentou_comprar_e_foi['dia'].isin(comprou_e_foi['dia'])]"
      ]
    },
    {
      "cell_type": "markdown",
      "id": "24cbe476-0e8a-4879-b7c0-76aa33741696",
      "metadata": {
        "id": "24cbe476-0e8a-4879-b7c0-76aa33741696"
      },
      "source": [
        "<h3>Reorganizando as colunas e criando tabelas auxiliares para ajudar na filtragem dos dados.</h3>"
      ]
    },
    {
      "cell_type": "code",
      "execution_count": null,
      "id": "0ee5504d",
      "metadata": {
        "id": "0ee5504d"
      },
      "outputs": [],
      "source": [
        "#compras = compras[['dia', 'nome', 'gastos', 'show']]\n",
        "\n",
        "## CA = \"Compra\" auxiliar\n",
        "\n",
        "ca = compras\n",
        "ca['novo'] = ca['dia'] + ca['nome']\n",
        "\n",
        "## NCMFA = \"Não Comprou Mas Foi\" auxiliar\n",
        "\n",
        "ncmfa = nao_comprou_mas_foi\n",
        "ncmfa['novo'] = ncmfa['dia'] + ncmfa['nome']\n",
        "\n",
        "## ITP = \"Clientes com 'Ingresso tipo Pista' auxiliar\"\n",
        "\n",
        "itpa = ingresso_tipo_pista\n",
        "itpa['novo'] = itpa['dia'] + itpa['nome']"
      ]
    },
    {
      "cell_type": "markdown",
      "id": "8a7d51cb-4df2-4279-83d4-c510e70ce6cb",
      "metadata": {
        "id": "8a7d51cb-4df2-4279-83d4-c510e70ce6cb"
      },
      "source": [
        "<h3><b>QUESTÃO 1: QUAL A MÉDIA DE GASTOS DE PESSOAS COM INGRESSO PISTA?</b></h3>"
      ]
    },
    {
      "cell_type": "code",
      "execution_count": null,
      "id": "ff71116f-d243-4ceb-b6f8-5d38a7c13488",
      "metadata": {
        "id": "ff71116f-d243-4ceb-b6f8-5d38a7c13488",
        "outputId": "f3b60d6a-ad6f-42a8-bcd5-45ea2687bc9f",
        "colab": {
          "base_uri": "https://localhost:8080/"
        }
      },
      "outputs": [
        {
          "output_type": "stream",
          "name": "stdout",
          "text": [
            "A média dos gastos de pessoas com ingresso pista foi de: R$ 3875.7125\n"
          ]
        }
      ],
      "source": [
        "media_tipo_pista = ca.loc[ca['novo'].isin(itpa['novo'])]\n",
        "media_tipo_pista = media_tipo_pista.drop(['dia', 'novo'], axis = 1)\n",
        "respostaq1 = media_tipo_pista['gastos'].round(1).mean()\n",
        "\n",
        "print(f'A média dos gastos de pessoas com ingresso pista foi de: R$ {respostaq1}')"
      ]
    },
    {
      "cell_type": "markdown",
      "id": "a3ee81df-f413-4e5c-8d0d-70c7f5ef4ec8",
      "metadata": {
        "id": "a3ee81df-f413-4e5c-8d0d-70c7f5ef4ec8"
      },
      "source": [
        "<h3><b>QUESTÃO 2: QUAIS PESSOAS NÃO COMPARECERAM AO SHOW?</b></h3>"
      ]
    },
    {
      "cell_type": "code",
      "execution_count": null,
      "id": "f0fbd528-b4f8-4406-8ee8-fd88df96a8f1",
      "metadata": {
        "id": "f0fbd528-b4f8-4406-8ee8-fd88df96a8f1",
        "outputId": "707f2b1b-81ab-4f72-d4ce-d3ca00f7a809",
        "colab": {
          "base_uri": "https://localhost:8080/"
        }
      },
      "outputs": [
        {
          "output_type": "stream",
          "name": "stdout",
          "text": [
            "Lista das pessoas que não compareceram ao show, independente de ter conseguido comprar ou não o ingresso:\n",
            "\n",
            " ['Alice Gamba' 'Amy Mejia' 'Brenda Key' 'Brenda Kozak' 'Courtney Edwards'\n",
            " 'Curtis Hernandez' 'Deborah Silsby' 'Donna Chandler' 'Edward Smith'\n",
            " 'Elizabeth Daly' 'Frances Lambert' 'Frank Houck' 'James Coffey'\n",
            " 'Linda Batiz' 'Marcela Nelson' 'Maria Villa' 'Matt Smudrick'\n",
            " 'Miguel Ramey' 'Nancy Degroot' 'Nancy Smith' 'Pamela Nixon'\n",
            " 'Ricardo Clasby' 'Rick Fleishman' 'Robert Copenhaver' 'Sandra Duncan'\n",
            " 'Travis Whatley' 'Yong Baltazar']\n"
          ]
        }
      ],
      "source": [
        "tentou_comprar_e_nao_foi = ingressos.loc[~ingressos['nome'].isin(compras['nome'])]\n",
        "respostaq2 = tentou_comprar_e_nao_foi['nome'].unique()\n",
        "\n",
        "print(f'Lista das pessoas que não compareceram ao show, independente de ter conseguido comprar ou não o ingresso:\\n\\n {respostaq2}')"
      ]
    },
    {
      "cell_type": "markdown",
      "id": "838de23b-a699-4d86-9dab-92d370e00e9c",
      "metadata": {
        "id": "838de23b-a699-4d86-9dab-92d370e00e9c"
      },
      "source": [
        "<h3><b>QUESTÃO 3: QUAIS PESSOAS COMPRARAM INGRESSOS COM CONCORRENTES?<b></h3>"
      ]
    },
    {
      "cell_type": "code",
      "execution_count": null,
      "id": "ebc8f1e7-adad-4cda-bd64-1fda599e94e0",
      "metadata": {
        "id": "ebc8f1e7-adad-4cda-bd64-1fda599e94e0",
        "outputId": "3382333b-c761-4b85-844e-ddccd7d15114",
        "colab": {
          "base_uri": "https://localhost:8080/"
        }
      },
      "outputs": [
        {
          "output_type": "stream",
          "name": "stdout",
          "text": [
            "Lista das pessoas que compraram ingresso com concorrentes:\n",
            "\n",
            " ['Adelina Thews' 'Alan Gravois' 'Albert Fadden' 'Alberto Gumm'\n",
            " 'Allen Bylsma' 'Allison Magill' 'Amanda Jones' 'Andrea Galyen'\n",
            " 'Andrew Hoff' 'Anna Hines' 'Anthony King' 'Anthony Nokes'\n",
            " 'Arthur Steiner' 'Belen Bradley' 'Benjamin Mcdonald' 'Benny Boisen'\n",
            " 'Beth Evans' 'Betty Lynch' 'Betty Moore' 'Beverly Redfern' 'Blanche Knox'\n",
            " 'Bobby Rick' 'Brandy Barnes' 'Brian Mann' 'Brittney Birkey' 'Bruce Hicks'\n",
            " 'Bryan Rayford' 'Caleb Munselle' 'Candy Killough' 'Carl Weber'\n",
            " 'Carol Eash' 'Carol Meeker' 'Cassandra Gonsalves' 'Catalina Berry'\n",
            " 'Catherine Loos' 'Charles Hershenson' 'Chelsea Banter' 'Cheryl West'\n",
            " 'Chester Chavez' 'Chris Wright' 'Christopher Mueller' 'Clarence Sharp'\n",
            " 'Courtney Chapman' 'Craig Wrisley' 'Cynthia Daves' 'Daniel Markell'\n",
            " 'Daniel Puckett' 'Danielle Gill' 'Darrel Allmand' 'David Pendergraph'\n",
            " 'Debra Howard' 'Denise Trapp' 'Dennis Miller' 'Derrick Collins'\n",
            " 'Donald Williams' 'Donna Marinas' 'Dorothy Simmons' 'Earl Thoburn'\n",
            " 'Edna Martinez' 'Edward Dick' 'Edward Scott' 'Eileen Gonzalez'\n",
            " 'Elena Lane' 'Elizabeth Barela' 'Elizabeth Pietrowski' 'Emil Nord'\n",
            " 'Emilio Mccoy' 'Emily Reece' 'Fannie Anderson' 'Frances Williams'\n",
            " 'Francis Lowe' 'Frank Davilla' 'Frank Skeesick' 'Gary Baier'\n",
            " 'Gary Schulman' 'Genoveva Poucher' 'George Hamm' 'Gerald Allen'\n",
            " 'Gilbert Romo' 'Henry Martinez' 'Henry Robinson' 'Herman Severson'\n",
            " 'Humberto Acton' 'Jack Spilde' 'James Bates' 'James Bombard'\n",
            " 'James Glover' 'James Mccollum' 'James Reaves' 'Jane Dunlap'\n",
            " 'Jarrod Adler' 'Jasmin Bray' 'Jayne Romaine' 'Jeanette Meyer'\n",
            " 'Jeffrey Pace' 'Jeffrey Ungaro' 'Jennifer Grant' 'Jennifer Williams'\n",
            " 'Jeremiah Hodge' 'Jesse Sheehan' 'Jessie Cook' 'Jesus Blodgett'\n",
            " 'Joann Hinde' 'John Mickle' 'John Stowell' 'Johnny Hairston'\n",
            " 'Jonathan Bechel' 'Joseph Almond' 'Joseph Wray' 'Joshua Petzold'\n",
            " 'Joshua Sanderson' 'Juan Koopman' 'Juanita Grant' 'Karen Dumas'\n",
            " 'Kathleen Nosal' 'Kelly Williamson' 'Kenneth Lucas' 'Kevin Stafford'\n",
            " 'Kimberly Ferri' 'Kristal Mick' 'Kristen Okajima' 'Larry Teague'\n",
            " 'Laura Booth' 'Lenard Thomas' 'Leo Hall' 'Leon Poppel' 'Leonard Schwartz'\n",
            " 'Leonard Storey' 'Linda Harris' 'Lindsey Robertson' 'Lisa Flowers'\n",
            " 'Lloyd Seifert' 'Lois Gaynor' 'Lorene Phifer' 'Louis Dejong'\n",
            " 'Luisa Pulliam' 'Margaret Robinson' 'Maria Marshall' 'Maria Mccullar'\n",
            " 'Marian Jackson' 'Mark Mealer' 'Mark Radosevich' 'Mary Brooks'\n",
            " 'Mathew Potter' 'Matthew Hammett' 'Matthew Pfeiff' 'Maudie Cullen'\n",
            " 'Mayola Hall' 'Melissa Esparza' 'Michael Keshishian' 'Michael Moore'\n",
            " 'Micheal Hill' 'Miriam Price' 'Monica Mcclung' 'Monte Hahn'\n",
            " 'Nancy Soolua' 'Opal Young' 'Oscar Kramer' 'Pamela Brimmage'\n",
            " 'Pamela Isenhour' 'Pamela Williams' 'Patrick Brown' 'Patrick Luna'\n",
            " 'Paul Brady' 'Paul Elliott' 'Peggy Baughman' 'Peter Acosta'\n",
            " 'Philip Acuna' 'Philip Webb' 'Phyllis Patrick' 'Rachel Hepler'\n",
            " 'Ramon Reed' 'Rebecca Burleson' 'Richard Hale' 'Richard Hau'\n",
            " 'Richard Jimenez' 'Richard Sharpe' 'Richard White' 'Robert Boyle'\n",
            " 'Robert Collins' 'Robin Bell' 'Robin Rossi' 'Ruby Richards'\n",
            " 'Ruth Allbright' 'Sabrina Graves' 'Sarah Cole' 'Scott Johnson'\n",
            " 'Sharon Marshall' 'Shayla Baird' 'Sherry Bremmer' 'Stella Shaw'\n",
            " 'Suzanne Herring' 'Temple Barnes' 'Thomas Mitchem' 'Thomas Watts'\n",
            " 'Timothy Brackett' 'Timothy Calles' 'Todd Mendoza' 'Tony Dechant'\n",
            " 'Tricia Mueller' 'Trina Meadows' 'Veronica Mckinney' 'Vicente Mcknight'\n",
            " 'Vicki Sanchez' 'Violet Meek' 'Walter Dodgen' 'Walter Kelly'\n",
            " 'William Barnes' 'William Converse' 'William Cotton' 'William Polite'\n",
            " 'William Swann' 'Willie Rodriguez' nan]\n"
          ]
        }
      ],
      "source": [
        "comprou_com_concorrentes = compras.loc[~compras['nome'].isin(comprou_e_foi['nome'])]\n",
        "respostaq3 = comprou_com_concorrentes['nome'].unique()\n",
        "\n",
        "print(f'Lista das pessoas que compraram ingresso com concorrentes:\\n\\n {respostaq3}')"
      ]
    },
    {
      "cell_type": "markdown",
      "id": "2922e6af-9e45-45fd-b008-d3f3a919a18e",
      "metadata": {
        "id": "2922e6af-9e45-45fd-b008-d3f3a919a18e"
      },
      "source": [
        "<h3><b>QUESTÃO 4: QUAL O DIA COM MAIOR GASTO?</b></h3>"
      ]
    },
    {
      "cell_type": "code",
      "execution_count": null,
      "id": "c5907f84-ac5f-442e-80ac-2d80dcb0ac57",
      "metadata": {
        "id": "c5907f84-ac5f-442e-80ac-2d80dcb0ac57"
      },
      "outputs": [],
      "source": [
        "gastos_por_dia = compras.groupby(['dia', 'show']).sum().sort_values(by=['dia']).reset_index()\n",
        "tabela_gastos_dia = gastos_por_dia.sort_values(by=['gastos'], ascending=False)\n",
        "tabela_gastos_dia['gastos'] = (gastos_por_dia['gastos'].apply(lambda x: \"R$ {:_.2f}\".format(x).replace('.', ',').replace('_', '.')))\n",
        "max_gasto = tabela_gastos_dia['gastos'][2]"
      ]
    },
    {
      "cell_type": "code",
      "execution_count": null,
      "id": "cf0cbde1-a9d3-4a46-8657-41b56d130fad",
      "metadata": {
        "id": "cf0cbde1-a9d3-4a46-8657-41b56d130fad",
        "outputId": "89224e31-276d-4bb2-cadd-b13595fa2ddc",
        "colab": {
          "base_uri": "https://localhost:8080/"
        }
      },
      "outputs": [
        {
          "output_type": "stream",
          "name": "stdout",
          "text": [
            "dia              show        gastos\n",
            "  3      Symbolic Toy R$ 330.810,92\n",
            "  1 Terrestrial Chair R$ 319.930,31\n",
            "  2    Nascent Letter R$ 269.765,88\n",
            "\n",
            "Logo, podemos perceber que o terceiro dia de show foi o dia com maior gasto, com um total gasto de R$ 330.810,92\n"
          ]
        }
      ],
      "source": [
        "print(tabela_gastos_dia.to_string(index=False))\n",
        "print(f'\\nLogo, podemos perceber que o terceiro dia de show foi o dia com maior gasto, com um total gasto de {max_gasto}')"
      ]
    },
    {
      "cell_type": "markdown",
      "id": "97a1e111-b0c2-4bfa-82e9-7edd4afb1da6",
      "metadata": {
        "tags": [],
        "id": "97a1e111-b0c2-4bfa-82e9-7edd4afb1da6"
      },
      "source": [
        "<h4>BONUS: Gráfico com os gastos de cada dia de show</h4>"
      ]
    },
    {
      "cell_type": "code",
      "execution_count": null,
      "id": "25d297c1-978f-4a08-b8f2-e57e204d8f8f",
      "metadata": {
        "id": "25d297c1-978f-4a08-b8f2-e57e204d8f8f",
        "outputId": "5a4bfa1a-1593-47dc-a056-f44ce9db676b",
        "colab": {
          "base_uri": "https://localhost:8080/",
          "height": 375
        }
      },
      "outputs": [
        {
          "output_type": "display_data",
          "data": {
            "text/plain": [
              "<Figure size 432x288 with 1 Axes>"
            ],
            "image/png": "[encoded data removed]"
          },
          "metadata": {
            "needs_background": "light"
          }
        }
      ],
      "source": [
        "fig = plt.figure(figsize=(6,4))\n",
        "data = gastos_por_dia\n",
        "ax = fig.add_axes([0,0,1,1])\n",
        "ax.set_title(\"Gastos por show (Dias 1, 2 e 3)\", fontsize=18)\n",
        "plt.xlabel('Show', fontsize=15)\n",
        "plt.ylabel('Total gasto', fontsize=14)\n",
        "plt.grid(axis='y')\n",
        "plot = plt.bar(gastos_por_dia['show'], gastos_por_dia['gastos'])\n",
        "def xfunc(x, pos):\n",
        "    s = '{:0,d}'.format(int(x))\n",
        "    return s\n",
        "x_format = plt.FuncFormatter(xfunc)\n",
        "ax.yaxis.set_major_formatter(x_format)\n",
        "\n",
        "for i in plot.patches:\n",
        "    plt.annotate(i.get_height(),\n",
        "                  (i.get_x() + i.get_width() / 2, i.get_height()),\n",
        "                ha='center', va='baseline',fontsize=12, color='black',\n",
        "                xytext=(0,2),\n",
        "                 textcoords='offset points')\n",
        "\n",
        "    \n",
        "plt.show()"
      ]
    },
    {
      "cell_type": "markdown",
      "id": "e0fb78d2-3067-4433-814b-eb270daa68e4",
      "metadata": {
        "id": "e0fb78d2-3067-4433-814b-eb270daa68e4"
      },
      "source": [
        "<h3><b>QUESTÃO 5: FAÇA UMA LISTA COM OS CLIENTES QUE DESISTIRAM DE COMPRAR O INGRESSO COM A AT, A SOMA DO VALOR QUE FOI GASTO DURANTE OS SHOWS E QUAIS SHOWS ELES DESISTIRAM DE COMPRAR.</b></h3>"
      ]
    },
    {
      "cell_type": "code",
      "execution_count": null,
      "id": "ff01c01e-e83b-4374-a3e0-91a86009b3ef",
      "metadata": {
        "id": "ff01c01e-e83b-4374-a3e0-91a86009b3ef"
      },
      "outputs": [],
      "source": [
        "lista_desistiu_compra = ca.loc[ca['novo'].isin(ncmfa['novo'])]\n",
        "# REMOVENDO COLUNA AUXILIAR\n",
        "lista_desistiu_compra = lista_desistiu_compra.drop(['dia', 'novo'], axis = 1)"
      ]
    },
    {
      "cell_type": "code",
      "execution_count": null,
      "id": "c632570b-2188-4889-a8d3-96eff3c7385e",
      "metadata": {
        "id": "c632570b-2188-4889-a8d3-96eff3c7385e",
        "outputId": "21469938-a22e-4400-96b7-d633dea4a0c7",
        "colab": {
          "base_uri": "https://localhost:8080/"
        }
      },
      "outputs": [
        {
          "output_type": "stream",
          "name": "stdout",
          "text": [
            "              nome   gastos                                show\n",
            "     Andrea Galyen  5133.81   [Terrestrial Chair, Symbolic Toy]\n",
            " Benjamin Mcdonald  2309.81                 [Terrestrial Chair]\n",
            "      Blanche Knox   924.31                 [Terrestrial Chair]\n",
            "Charles Hershenson   163.44                 [Terrestrial Chair]\n",
            "    Daniel Puckett  1489.02                 [Terrestrial Chair]\n",
            "      Debra Howard  5879.15                 [Terrestrial Chair]\n",
            "     Edna Martinez  9415.36 [Nascent Letter, Terrestrial Chair]\n",
            "         Emil Nord  4798.81                    [Nascent Letter]\n",
            "     Frank Davilla  1724.35                    [Nascent Letter]\n",
            "      Gerald Allen  3447.17                 [Terrestrial Chair]\n",
            "      James Reaves  5035.27                    [Nascent Letter]\n",
            "      Jarrod Adler  1070.84                 [Terrestrial Chair]\n",
            "      Jeffrey Pace  5810.78                 [Terrestrial Chair]\n",
            "       Joseph Wray  3142.35                      [Symbolic Toy]\n",
            "  Joshua Sanderson  1775.60                 [Terrestrial Chair]\n",
            "  Kelly Williamson  9380.15      [Nascent Letter, Symbolic Toy]\n",
            "      Larry Teague 12137.35                      [Symbolic Toy]\n",
            " Margaret Robinson  3148.62                    [Nascent Letter]\n",
            "    Maria Marshall  1963.90                    [Nascent Letter]\n",
            "   Richard Jimenez  1170.46                      [Symbolic Toy]\n",
            "    Sabrina Graves  1893.27                    [Nascent Letter]\n",
            "      Shayla Baird  1613.10                    [Nascent Letter]\n",
            "   Suzanne Herring  3387.75                 [Terrestrial Chair]\n",
            "    William Barnes  3218.63                 [Terrestrial Chair]\n"
          ]
        }
      ],
      "source": [
        "respostaq5 = lista_desistiu_compra.groupby('nome').agg({'gastos': sum, 'show': lambda x: list(set(x))}).reset_index()\n",
        "print(respostaq5.to_string(index=False))"
      ]
    },
    {
      "cell_type": "markdown",
      "id": "41f83bf5-fea6-4899-8844-b4dc71c50fb2",
      "metadata": {
        "id": "41f83bf5-fea6-4899-8844-b4dc71c50fb2"
      },
      "source": [
        "<h2><b>ATENÇÃO!</b><br><br> Para baixar o arquivo JSON com a resposta da questão 5, descomente e rode a célula de código abaixo</h2>"
      ]
    },
    {
      "cell_type": "code",
      "execution_count": null,
      "id": "f295cda2-ac24-4982-b024-1628bf5e48d9",
      "metadata": {
        "id": "f295cda2-ac24-4982-b024-1628bf5e48d9"
      },
      "outputs": [],
      "source": [
        "##lista_desistiu_compra.groupby('nome').agg({'gastos': sum, 'show': lambda x: list(set(x))}).reset_index().to_json('resposta_questao5.json', orient='records', indent=4)"
      ]
    }
  ],
  "metadata": {
    "kernelspec": {
      "display_name": "Python 3 (ipykernel)",
      "language": "python",
      "name": "python3"
    },
    "language_info": {
      "codemirror_mode": {
        "name": "ipython",
        "version": 3
      },
      "file_extension": ".py",
      "mimetype": "text/x-python",
      "name": "python",
      "nbconvert_exporter": "python",
      "pygments_lexer": "ipython3",
      "version": "3.9.12"
    },
    "colab": {
      "name": "Copy of Case Raccoon - Python.ipynb",
      "provenance": []
    }
  },
  "nbformat": 4,
  "nbformat_minor": 5
}